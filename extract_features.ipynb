{
 "cells": [
  {
   "cell_type": "code",
   "execution_count": null,
   "metadata": {},
   "outputs": [],
   "source": [
    "import pandas as pd\n",
    "import numpy as np\n",
    "import deepchem as dc\n",
    "from pubchempy import get_cids, get_compounds\n",
    "\n",
    "import tensorflow as tf\n",
    "physical_devices = tf.config.list_physical_devices('GPU')\n",
    "tf.config.experimental.set_memory_growth(physical_devices[0], enable=True)\n",
    "\n",
    "import matplotlib.pyplot as plt\n",
    "import seaborn as sns\n",
    "\n",
    "from IPython.core.display import display, HTML\n",
    "display(HTML(\"<style>.container { width:100% !important; }</style>\"))\n",
    "\n",
    "from sklearn.base import BaseEstimator, TransformerMixin\n",
    "from sklearn.preprocessing import StandardScaler"
   ]
  },
  {
   "cell_type": "code",
   "execution_count": null,
   "metadata": {},
   "outputs": [],
   "source": [
    "def display_df(df):\n",
    "    display(HTML(df.to_html()))\n",
    "    return None"
   ]
  },
  {
   "cell_type": "code",
   "execution_count": null,
   "metadata": {},
   "outputs": [],
   "source": [
    "class CollinearColumnRemover(BaseEstimator, TransformerMixin):\n",
    "    def __init__(self, threshold, col_regex=None, exclude_cols=None):\n",
    "        \"\"\"\n",
    "        :param threshold: float in [0, 1], if two columns have correlation greater than threshold\n",
    "                          one of them will be removed\n",
    "        :param col_regex: str, regular expression to select columns\n",
    "        \"\"\"\n",
    "        self._threshold = threshold\n",
    "        self._col_regex = col_regex\n",
    "        if exclude_cols is None:\n",
    "            self._exclude_cols = []\n",
    "        else:\n",
    "            self._exclude_cols = exclude_cols\n",
    "    \n",
    "    def _collinear_columns(self, df, threshold):\n",
    "        if self._col_regex is None:\n",
    "            df_sel = df.select_dtypes([\"number\", \"bool\"])\n",
    "        else:\n",
    "            df_sel = df.filter(regex=self._col_regex)\n",
    "            df_sel = df_sel.select_dtypes([\"number\", \"bool\"])\n",
    "        \n",
    "        df_sel = df_sel.astype(\"float32\")\n",
    "        \n",
    "        all_cols = df_sel.columns.to_list()\n",
    "        all_cols = [col for col in all_cols if col not in self._exclude_cols]\n",
    "        df_sel = df_sel[all_cols]\n",
    "        ncols = len(all_cols)\n",
    "        \n",
    "        corr_mat = df_sel.corr().abs()\n",
    "        self._corr_mat = corr_mat\n",
    "        collin_cols = []\n",
    "        for i in range(ncols-1):\n",
    "            col_i = all_cols[i]\n",
    "            if col_i in collin_cols:\n",
    "                continue\n",
    "            \n",
    "            for j in range(i + 1, ncols):\n",
    "                col_j = all_cols[j]\n",
    "                if col_j in collin_cols:\n",
    "                    continue\n",
    "                \n",
    "                corr = corr_mat.loc[col_i, col_j]\n",
    "                if corr > threshold:\n",
    "                    collin_cols.append(col_j)\n",
    "        \n",
    "        collin_cols = list(set(collin_cols))\n",
    "        return collin_cols\n",
    "    \n",
    "    \n",
    "    def fit(self, df):\n",
    "        self._collin_cols = self._collinear_columns(df, self._threshold)\n",
    "        return self\n",
    "    \n",
    "    def transform(self, df):\n",
    "        all_cols = df.columns.to_list()\n",
    "        nonexist_cols = [col for col in self._collin_cols if col not in all_cols]\n",
    "        if len(nonexist_cols) > 0:\n",
    "            print(\"WARNING: These collinear cols to be droped do not exist in df:\", nonexist_cols)\n",
    "            \n",
    "        droped_col = [col for col in self._collin_cols if col in all_cols]\n",
    "        print(\"Number of columns droped due to collinearity:\", len(droped_col))\n",
    "        return df.drop(droped_col, axis=\"columns\")"
   ]
  },
  {
   "cell_type": "code",
   "execution_count": null,
   "metadata": {},
   "outputs": [],
   "source": [
    "class NumImputer(BaseEstimator, TransformerMixin):\n",
    "    def __init__(self, method=\"mean\", exclude_cols=None):\n",
    "        self._method = method\n",
    "        if exclude_cols is None:\n",
    "            self._exclude_cols = []\n",
    "        else:\n",
    "            self._exclude_cols = exclude_cols\n",
    "    \n",
    "    def fit(self, df_train):\n",
    "        num_cols = df_train.select_dtypes([\"number\"]).columns.to_list()\n",
    "        num_cols = [col for col in num_cols if col not in self._exclude_cols]\n",
    "        \n",
    "        self._train_cols = df_train.columns.to_list()\n",
    "        \n",
    "        self._impute_values = {}\n",
    "        for col in num_cols:\n",
    "            self._impute_values[col] = df_train[col].agg(self._method)\n",
    "        return self\n",
    "    \n",
    "    def transform(self, df):\n",
    "        df = df.copy()\n",
    "        cols = df.columns.to_list()\n",
    "        assert set(cols) == set(self._train_cols), \"Do not have the same set of cols as train\"\n",
    "        \n",
    "        for col, val in self._impute_values.items():\n",
    "            if df[col].isnull().sum() > 0:\n",
    "                df[col] = df[col].fillna(val)\n",
    "        \n",
    "        # align columns\n",
    "        df = df[self._train_cols]\n",
    "        return df\n",
    "    \n",
    "\n",
    "class CatImputer(BaseEstimator, TransformerMixin):\n",
    "    def __init__(self, val=\"MISSING\"):\n",
    "        self._val = val\n",
    "    \n",
    "    def fit(self, df_train):\n",
    "        cat_cols = df_train.select_dtypes([\"object\", \"category\", \"bool\"]).columns.to_list()\n",
    "        self._train_cols = df_train.columns.to_list()\n",
    "        \n",
    "        self._impute_values = {}\n",
    "        for col in cat_cols:\n",
    "            self._impute_values[col] = self._val\n",
    "        return self\n",
    "    \n",
    "    def transform(self, df):\n",
    "        df = df.copy()\n",
    "        cols = df.columns.to_list()\n",
    "        assert set(cols) == set(self._train_cols), \"Do not have the same set of cols as train\"\n",
    "        \n",
    "        for col, val in self._impute_values.items():\n",
    "            if df[col].isnull().sum() > 0:\n",
    "                df[col] = df[col].astype(\"object\").fillna(val).astype(\"category\")\n",
    "                \n",
    "        # align columns\n",
    "        df = df[self._train_cols]\n",
    "        return df"
   ]
  },
  {
   "cell_type": "code",
   "execution_count": null,
   "metadata": {},
   "outputs": [],
   "source": [
    "class Standardizer(BaseEstimator, TransformerMixin):\n",
    "    def __init__(self, exclude_cols=None, to_array=False):\n",
    "        if exclude_cols is None:\n",
    "            self._exclude_cols = []\n",
    "        else:\n",
    "            self._exclude_cols = exclude_cols\n",
    "            \n",
    "        self._to_array = to_array\n",
    "        \n",
    "    def fit(self, df_train):\n",
    "        num_cols = df_train.select_dtypes([\"number\"]).columns.to_list()\n",
    "        num_cols = [col for col in num_cols if col not in self._exclude_cols]\n",
    "        \n",
    "        self._mean = {col: df_train[col].mean() for col in num_cols}\n",
    "        self._std = {col: df_train[col].std() for col in num_cols}\n",
    "        return self\n",
    "    \n",
    "    def transform(self, df):\n",
    "        for col in self._mean:\n",
    "            if self._std[col] > 0:\n",
    "                df[col] = (df[col] - self._mean[col]) / self._std[col]\n",
    "                df[col] = df[col].astype(\"float32\")\n",
    "            else:\n",
    "                print(\"WARNING: \" + col + \" has zero std.\")\n",
    "                df[col] = df[col] - self._mean[col]\n",
    "                df[col] = df[col].astype(\"float32\")\n",
    "                \n",
    "        if self._to_array:\n",
    "            return df.values.astype(np.float32)\n",
    "        else:\n",
    "            return df"
   ]
  },
  {
   "cell_type": "markdown",
   "metadata": {},
   "source": [
    "# Load `data_dedup.xlsx`"
   ]
  },
  {
   "cell_type": "code",
   "execution_count": null,
   "metadata": {},
   "outputs": [],
   "source": [
    "data_sht1 = pd.read_excel(\"data/raw/data_dedup.xlsx\", sheet_name=\"Sheet1\")\n",
    "data_sht1 = data_sht1.drop([\"STT\", \"PUBCHEM_COMPOUND_CID\"], axis=1)\n",
    "data_sht1 = data_sht1.rename(columns={\"SMILE\": \"smiles\", \"Delta_G\": \"dG\"})\n",
    "data_sht1[\"code\"] = \"labeled_pubchem\"\n",
    "\n",
    "data_sht1[\"train_test\"] = \"train\"\n",
    "rnd = np.random.RandomState(42)\n",
    "test_idx = rnd.choice(data_sht1.shape[0], size=162, replace=False)\n",
    "data_sht1.iloc[test_idx, 3] = \"test\"\n",
    "\n",
    "data_sht1[\"smiles_len\"] = data_sht1[\"smiles\"].str.len()\n",
    "\n",
    "print(data_sht1.shape)\n",
    "data_sht1.head()"
   ]
  },
  {
   "cell_type": "markdown",
   "metadata": {},
   "source": [
    "# Load `vietherbs.smi`"
   ]
  },
  {
   "cell_type": "code",
   "execution_count": null,
   "metadata": {},
   "outputs": [],
   "source": [
    "vietherbs = pd.read_table(\"data/raw/vietherbs.smi\", sep=\"\\s+\", header=None)\n",
    "vietherbs = vietherbs.rename(columns={0: \"smiles\", 1: \"pdb\"})\n",
    "vietherbs = vietherbs.drop([\"pdb\"], axis=1)\n",
    "vietherbs[\"dG\"] = np.nan\n",
    "vietherbs[\"code\"] = \"vietherbs\"\n",
    "vietherbs[\"train_test\"] = \"pred\"\n",
    "vietherbs[\"smiles_len\"] = vietherbs[\"smiles\"].str.len()\n",
    "print(vietherbs.shape)\n",
    "vietherbs.head()"
   ]
  },
  {
   "cell_type": "markdown",
   "metadata": {},
   "source": [
    "# Load `chembl_27`"
   ]
  },
  {
   "cell_type": "code",
   "execution_count": null,
   "metadata": {},
   "outputs": [],
   "source": [
    "chembl_27 = pd.read_table(\"data/raw/chembl_27.smi\", sep=\"\\s+\", header=None)\n",
    "chembl_27 = chembl_27.rename(columns={0: \"smiles\", 1: \"pdb\"})\n",
    "chembl_27 = chembl_27.drop([\"pdb\"], axis=1)\n",
    "chembl_27[\"dG\"] = np.nan\n",
    "chembl_27[\"code\"] = \"chembl_27\"\n",
    "chembl_27[\"train_test\"] = \"pred\"\n",
    "chembl_27[\"smiles_len\"] = chembl_27[\"smiles\"].str.len()\n",
    "\n",
    "chembl_27 = chembl_27[chembl_27[\"smiles_len\"] <= 200]\n",
    "\n",
    "print(chembl_27.shape)\n",
    "chembl_27.head()"
   ]
  },
  {
   "cell_type": "markdown",
   "metadata": {},
   "source": [
    "# Load 5 extra ligands"
   ]
  },
  {
   "cell_type": "code",
   "execution_count": null,
   "metadata": {},
   "outputs": [],
   "source": [
    "extra_5 = pd.read_table(\"data/raw/extra_5.smi\", sep=\"\\s+\", header=None)\n",
    "extra_5 = extra_5.rename(columns={0: \"smiles\", 1: \"pdb\"})\n",
    "extra_5 = extra_5.drop([\"pdb\"], axis=1)\n",
    "extra_5[\"dG\"] = np.nan\n",
    "extra_5[\"code\"] = \"extra_5\"\n",
    "extra_5[\"train_test\"] = \"pred\"\n",
    "extra_5[\"smiles_len\"] = extra_5[\"smiles\"].str.len()\n",
    "print(extra_5.shape)\n",
    "extra_5.head()"
   ]
  },
  {
   "cell_type": "markdown",
   "metadata": {},
   "source": [
    "# Combine `pdY`"
   ]
  },
  {
   "cell_type": "code",
   "execution_count": null,
   "metadata": {},
   "outputs": [],
   "source": [
    "if False:\n",
    "    pdY = pd.concat([data_sht1, vietherbs, chembl_27, extra_5], axis=0, ignore_index=True)\n",
    "    pdY = pdY.reset_index()\n",
    "    pdY = pdY.rename(columns={\"index\": \"id\"})\n",
    "    pdY[\"id\"] = pdY[\"id\"].astype(str) + \"_\"\n",
    "    print(pdY.shape)\n",
    "\n",
    "    pdY.to_csv(\"data/process/pdY.csv\", index=False)\n",
    "\n",
    "pdY = pd.read_csv(\"data/process/pdY.csv\")"
   ]
  },
  {
   "cell_type": "code",
   "execution_count": null,
   "metadata": {},
   "outputs": [],
   "source": [
    "if False:\n",
    "    pdY[pdY[\"train_test\"] == \"train\"].to_csv(\"data/process/pdY_train.csv\", index=False)\n",
    "    pdY[pdY[\"train_test\"] == \"test\"].to_csv(\"data/process/pdY_test.csv\", index=False)\n",
    "\n",
    "    pdY[pdY[\"code\"] == \"vietherbs\"].to_csv(\"data/process/pdY_vietherbs.csv\", index=False)\n",
    "    pdY[pdY[\"code\"] == \"chembl_27\"].to_csv(\"data/process/pdY_chembl_27.csv\", index=False)\n",
    "    pdY[pdY[\"code\"] == \"extra_5\"].to_csv(\"data/process/pdY_extra_5.csv\", index=False)"
   ]
  },
  {
   "cell_type": "markdown",
   "metadata": {},
   "source": [
    "# Extract RDKitDescriptors"
   ]
  },
  {
   "cell_type": "code",
   "execution_count": null,
   "metadata": {
    "scrolled": true
   },
   "outputs": [],
   "source": [
    "assert False\n",
    "\n",
    "rdkit_featurizer = dc.feat.RDKitDescriptors()\n",
    "X = rdkit_featurizer(pdY[\"smiles\"])\n",
    "\n",
    "X1 = []\n",
    "for y in X:\n",
    "    if y.shape[0] > 0:\n",
    "        X1.append(y.tolist())\n",
    "    else:\n",
    "        y = [np.nan]*200\n",
    "        X1.append(y)\n",
    "X1 = np.array(X1)\n",
    "\n",
    "X2 = pd.DataFrame(X1, columns=rdkit_featurizer.descriptors)\n",
    "X2[\"id\"] = pdY[\"id\"]\n",
    "X2[\"smiles\"] = pdY[\"smiles\"]\n",
    "X2[\"dG\"] = pdY[\"dG\"]\n",
    "X2[\"code\"] = pdY[\"code\"]\n",
    "X2[\"train_test\"] = pdY[\"train_test\"]\n",
    "X2[\"smiles_len\"] = pdY[\"smiles_len\"]\n",
    "if False:\n",
    "    X2.to_csv(\"data/process/pdXY_rdkit_descriptors_200ft.csv\", index=False)"
   ]
  },
  {
   "cell_type": "markdown",
   "metadata": {},
   "source": [
    "## 5 extra ligands"
   ]
  },
  {
   "cell_type": "code",
   "execution_count": null,
   "metadata": {},
   "outputs": [],
   "source": [
    "pdY_ex5 = pd.read_csv(\"data/process/pdY_extra_5.csv\")\n"
   ]
  },
  {
   "cell_type": "code",
   "execution_count": null,
   "metadata": {},
   "outputs": [],
   "source": [
    "assert False\n",
    "rdkit_featurizer = dc.feat.RDKitDescriptors()\n",
    "\n",
    "pdY_ex5 = pd.read_csv(\"data/process/pdY_extra_5.csv\")\n",
    "X = rdkit_featurizer(pdY_ex5[\"smiles\"])\n",
    "\n",
    "X1 = []\n",
    "for y in X:\n",
    "    if y.shape[0] > 0:\n",
    "        X1.append(y.tolist())\n",
    "    else:\n",
    "        y = [np.nan]*200\n",
    "        X1.append(y)\n",
    "X1 = np.array(X1)\n",
    "\n",
    "X2 = pd.DataFrame(X1, columns=rdkit_featurizer.descriptors)\n",
    "X2[\"id\"] = pdY_ex5[\"id\"]\n",
    "X2[\"smiles\"] = pdY_ex5[\"smiles\"]\n",
    "X2[\"dG\"] = pdY_ex5[\"dG\"]\n",
    "X2[\"code\"] = pdY_ex5[\"code\"]\n",
    "X2[\"train_test\"] = pdY_ex5[\"train_test\"]\n",
    "X2[\"smiles_len\"] = pdY_ex5[\"smiles_len\"]\n",
    "if False:\n",
    "    X2.to_csv(\"data/process/pdXY_ex5_rdkit_descriptors_200ft.csv\", index=False)"
   ]
  },
  {
   "cell_type": "markdown",
   "metadata": {},
   "source": [
    "# Remove mostly zero columns"
   ]
  },
  {
   "cell_type": "code",
   "execution_count": null,
   "metadata": {},
   "outputs": [],
   "source": [
    "pdXY_200 = pd.read_csv(\"data/process/pdXY_rdkit_descriptors_200ft.csv\")"
   ]
  },
  {
   "cell_type": "code",
   "execution_count": null,
   "metadata": {},
   "outputs": [],
   "source": [
    "PDY_COLS = [\"id\", \"smiles\", \"dG\", \"code\", \"train_test\", \"smiles_len\"]\n",
    "PDX_COLS = [col for col in pdXY_200.columns if col not in PDY_COLS]"
   ]
  },
  {
   "cell_type": "code",
   "execution_count": null,
   "metadata": {
    "scrolled": true
   },
   "outputs": [],
   "source": [
    "pdXY_200_train = pdXY_200[pdXY_200[\"train_test\"] == \"train\"].copy()\n",
    "\n",
    "mostly_zero_cols = []\n",
    "for col in PDX_COLS:\n",
    "    zero_rate = (pdXY_200_train[col] == 0).mean()\n",
    "    if zero_rate > 0.99:\n",
    "        print(\"{}    {}\".format(col, zero_rate))\n",
    "        mostly_zero_cols.append(col)\n",
    "\n",
    "pdXY_156 = pdXY_200.drop(mostly_zero_cols, axis=1)\n",
    "print(pdXY_156.shape)\n",
    "\n",
    "pdXY_156.to_csv(\"data/process/pdXY_rdkit_descriptors_156ft.csv\", index=False)"
   ]
  },
  {
   "cell_type": "code",
   "execution_count": null,
   "metadata": {},
   "outputs": [],
   "source": [
    "pdXY_156.head()"
   ]
  },
  {
   "cell_type": "markdown",
   "metadata": {},
   "source": [
    "# Remove correlated columns"
   ]
  },
  {
   "cell_type": "code",
   "execution_count": null,
   "metadata": {},
   "outputs": [],
   "source": [
    "assert False\n",
    "\n",
    "pdXY_156 = pd.read_csv(\"data/process/pdXY_rdkit_descriptors_156ft.csv\")\n",
    "print(pdXY_156.shape)\n",
    "\n",
    "pdXY_156_train = pdXY_156[pdXY_156[\"train_test\"] == \"train\"].copy()\n",
    "print(pdXY_156_train.shape)\n",
    "\n",
    "remover = CollinearColumnRemover(0.95, exclude_cols=PDY_COLS)\n",
    "remover.fit(pdXY_156_train)\n",
    "\n",
    "pdXY_123 = remover.transform(pdXY_156)\n",
    "print(pdXY_123.shape)\n",
    "\n",
    "if False:\n",
    "    pdXY_123.to_csv(\"data/process/pdXY_rdkit_descriptors_123ft.csv\", index=False)"
   ]
  },
  {
   "cell_type": "code",
   "execution_count": null,
   "metadata": {},
   "outputs": [],
   "source": [
    "pdXY_123.head()"
   ]
  },
  {
   "cell_type": "markdown",
   "metadata": {},
   "source": [
    "## 5 extra ligands"
   ]
  },
  {
   "cell_type": "code",
   "execution_count": null,
   "metadata": {},
   "outputs": [],
   "source": [
    "assert False\n",
    "\n",
    "pdXY_156 = pd.read_csv(\"data/process/pdXY_rdkit_descriptors_156ft.csv\")\n",
    "print(pdXY_156.shape)\n",
    "\n",
    "pdXY_156_train = pdXY_156[pdXY_156[\"train_test\"] == \"train\"].copy()\n",
    "print(pdXY_156_train.shape)\n",
    "\n",
    "pdXY_ex5_156 = pd.read_csv(\"data/process/pdXY_ex5_rdkit_descriptors_156ft.csv\")\n",
    "print(pdXY_ex5_156.shape)\n",
    "\n",
    "remover = CollinearColumnRemover(0.95, exclude_cols=PDY_COLS)\n",
    "remover.fit(pdXY_156_train)\n",
    "\n",
    "pdXY_ex5_123 = remover.transform(pdXY_ex5_156)\n",
    "print(pdXY_ex5_123.shape)\n",
    "\n",
    "if False:\n",
    "    pdXY_ex5_123.to_csv(\"data/process/pdXY_ex5_rdkit_descriptors_123ft.csv\", index=False)"
   ]
  },
  {
   "cell_type": "markdown",
   "metadata": {},
   "source": [
    "# Impute missing and standardize for `pdXY_123`"
   ]
  },
  {
   "cell_type": "code",
   "execution_count": null,
   "metadata": {},
   "outputs": [],
   "source": [
    "pdXY_123 = pd.read_csv(\"data/process/pdXY_rdkit_descriptors_123ft.csv\")\n",
    "print(\"pdXY_123.shape\", pdXY_123.shape)\n",
    "\n",
    "PDY_COLS = [\"id\", \"smiles\", \"dG\", \"code\", \"train_test\", \"smiles_len\"]\n",
    "\n",
    "imputer = NumImputer(method=\"median\", exclude_cols=PDY_COLS)\n",
    "imputer.fit(pdXY_123[pdXY_123[\"train_test\"] == \"train\"].copy())\n",
    "pdXY_123_clean = imputer.transform(pdXY_123)\n",
    "print(\"pdXY_123_clean.shape\", pdXY_123_clean.shape)\n",
    "\n",
    "\n",
    "std = Standardizer(exclude_cols=PDY_COLS)\n",
    "std.fit(pdXY_123_clean[pdXY_123_clean[\"train_test\"] == \"train\"].copy())\n",
    "pdXY_123_clean = std.transform(pdXY_123_clean)\n",
    "print(\"pdXY_123_clean.shape\", pdXY_123_clean.shape)\n",
    "\n",
    "pdXY_123_clean.to_csv(\"data/process/pdXY_rdkit_descriptors_123ft_clean.csv\", index=False)"
   ]
  },
  {
   "cell_type": "markdown",
   "metadata": {},
   "source": [
    "## 5 extra ligands"
   ]
  },
  {
   "cell_type": "code",
   "execution_count": null,
   "metadata": {},
   "outputs": [],
   "source": [
    "assert True\n",
    "\n",
    "pdXY_123 = pd.read_csv(\"data/process/pdXY_rdkit_descriptors_123ft.csv\")\n",
    "print(\"pdXY_123.shape\", pdXY_123.shape)\n",
    "\n",
    "PDY_COLS = [\"id\", \"smiles\", \"dG\", \"code\", \"train_test\", \"smiles_len\"]\n",
    "\n",
    "pdXY_123 = pdXY_123[pdXY_123[\"train_test\"] == \"train\"].copy()\n",
    "pdXY_ex5_123 = pd.read_csv(\"data/process/pdXY_ex5_rdkit_descriptors_123ft.csv\")\n",
    "pdXY_123 = pd.concat([pdXY_123, pdXY_ex5_123], axis=0, ignore_index=True)\n",
    "\n",
    "\n",
    "imputer = NumImputer(method=\"median\", exclude_cols=PDY_COLS)\n",
    "imputer.fit(pdXY_123[pdXY_123[\"train_test\"] == \"train\"].copy())\n",
    "pdXY_123_clean = imputer.transform(pdXY_123)\n",
    "print(\"pdXY_123_clean.shape\", pdXY_123_clean.shape)\n",
    "\n",
    "\n",
    "std = Standardizer(exclude_cols=PDY_COLS)\n",
    "std.fit(pdXY_123_clean[pdXY_123_clean[\"train_test\"] == \"train\"].copy())\n",
    "pdXY_123_clean = std.transform(pdXY_123_clean)\n",
    "print(\"pdXY_123_clean.shape\", pdXY_123_clean.shape)\n",
    "\n",
    "pdXY_123_clean = pdXY_123_clean[pdXY_123_clean[\"code\"] == \"extra_5\"]\n",
    "print(\"pdXY_123_clean.shape\", pdXY_123_clean.shape)\n",
    "\n",
    "pdXY_123_clean.to_csv(\"data/process/pdXY_ex5_rdkit_descriptors_123ft_clean.csv\", index=False)"
   ]
  },
  {
   "cell_type": "code",
   "execution_count": null,
   "metadata": {},
   "outputs": [],
   "source": [
    "pdXY_123_clean"
   ]
  },
  {
   "cell_type": "code",
   "execution_count": null,
   "metadata": {},
   "outputs": [],
   "source": []
  }
 ],
 "metadata": {
  "kernelspec": {
   "display_name": "Python 3",
   "language": "python",
   "name": "python3"
  },
  "language_info": {
   "codemirror_mode": {
    "name": "ipython",
    "version": 3
   },
   "file_extension": ".py",
   "mimetype": "text/x-python",
   "name": "python",
   "nbconvert_exporter": "python",
   "pygments_lexer": "ipython3",
   "version": "3.7.3"
  }
 },
 "nbformat": 4,
 "nbformat_minor": 4
}
